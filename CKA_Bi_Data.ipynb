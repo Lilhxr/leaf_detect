{
  "nbformat": 4,
  "nbformat_minor": 0,
  "metadata": {
    "colab": {
      "name": "CKA-Bi-Data.ipynb",
      "provenance": [],
      "collapsed_sections": [],
      "authorship_tag": "ABX9TyOhOVlg20pzxHbIHIqJrycj",
      "include_colab_link": true
    },
    "kernelspec": {
      "name": "python3",
      "display_name": "Python 3"
    },
    "language_info": {
      "name": "python"
    },
    "accelerator": "GPU",
    "widgets": {
      "application/vnd.jupyter.widget-state+json": {
        "0d81d5ea5db040d9bbc3ad461ff4d5ec": {
          "model_module": "@jupyter-widgets/controls",
          "model_name": "HBoxModel",
          "model_module_version": "1.5.0",
          "state": {
            "_dom_classes": [],
            "_model_module": "@jupyter-widgets/controls",
            "_model_module_version": "1.5.0",
            "_model_name": "HBoxModel",
            "_view_count": null,
            "_view_module": "@jupyter-widgets/controls",
            "_view_module_version": "1.5.0",
            "_view_name": "HBoxView",
            "box_style": "",
            "children": [
              "IPY_MODEL_faadf86c14084e34a88da42b78e9c142",
              "IPY_MODEL_0ebd9b8ebdcf4958b46af8019916ab93",
              "IPY_MODEL_1f9b3ffb15f4490f8f4ba7445cad852f"
            ],
            "layout": "IPY_MODEL_328915a061db4d22a945063f3a290f8c"
          }
        },
        "faadf86c14084e34a88da42b78e9c142": {
          "model_module": "@jupyter-widgets/controls",
          "model_name": "HTMLModel",
          "model_module_version": "1.5.0",
          "state": {
            "_dom_classes": [],
            "_model_module": "@jupyter-widgets/controls",
            "_model_module_version": "1.5.0",
            "_model_name": "HTMLModel",
            "_view_count": null,
            "_view_module": "@jupyter-widgets/controls",
            "_view_module_version": "1.5.0",
            "_view_name": "HTMLView",
            "description": "",
            "description_tooltip": null,
            "layout": "IPY_MODEL_65df107fb2384b108c0e27c78ef54504",
            "placeholder": "​",
            "style": "IPY_MODEL_19f0ba56b51e4cff8607ae500a0a4617",
            "value": "| Comparing features |: 100%"
          }
        },
        "0ebd9b8ebdcf4958b46af8019916ab93": {
          "model_module": "@jupyter-widgets/controls",
          "model_name": "FloatProgressModel",
          "model_module_version": "1.5.0",
          "state": {
            "_dom_classes": [],
            "_model_module": "@jupyter-widgets/controls",
            "_model_module_version": "1.5.0",
            "_model_name": "FloatProgressModel",
            "_view_count": null,
            "_view_module": "@jupyter-widgets/controls",
            "_view_module_version": "1.5.0",
            "_view_name": "ProgressView",
            "bar_style": "success",
            "description": "",
            "description_tooltip": null,
            "layout": "IPY_MODEL_042deb7e0c1f4ec3a1c58d63b0e4031d",
            "max": 2,
            "min": 0,
            "orientation": "horizontal",
            "style": "IPY_MODEL_b19251a68bed49fea8bc65f120a0fb1a",
            "value": 2
          }
        },
        "1f9b3ffb15f4490f8f4ba7445cad852f": {
          "model_module": "@jupyter-widgets/controls",
          "model_name": "HTMLModel",
          "model_module_version": "1.5.0",
          "state": {
            "_dom_classes": [],
            "_model_module": "@jupyter-widgets/controls",
            "_model_module_version": "1.5.0",
            "_model_name": "HTMLModel",
            "_view_count": null,
            "_view_module": "@jupyter-widgets/controls",
            "_view_module_version": "1.5.0",
            "_view_name": "HTMLView",
            "description": "",
            "description_tooltip": null,
            "layout": "IPY_MODEL_cab5f709354c4af39322fdbb1cb5744e",
            "placeholder": "​",
            "style": "IPY_MODEL_31a502ed6f5149299a98c021ebbacc6e",
            "value": " 2/2 [00:24&lt;00:00, 11.60s/it]"
          }
        },
        "328915a061db4d22a945063f3a290f8c": {
          "model_module": "@jupyter-widgets/base",
          "model_name": "LayoutModel",
          "model_module_version": "1.2.0",
          "state": {
            "_model_module": "@jupyter-widgets/base",
            "_model_module_version": "1.2.0",
            "_model_name": "LayoutModel",
            "_view_count": null,
            "_view_module": "@jupyter-widgets/base",
            "_view_module_version": "1.2.0",
            "_view_name": "LayoutView",
            "align_content": null,
            "align_items": null,
            "align_self": null,
            "border": null,
            "bottom": null,
            "display": null,
            "flex": null,
            "flex_flow": null,
            "grid_area": null,
            "grid_auto_columns": null,
            "grid_auto_flow": null,
            "grid_auto_rows": null,
            "grid_column": null,
            "grid_gap": null,
            "grid_row": null,
            "grid_template_areas": null,
            "grid_template_columns": null,
            "grid_template_rows": null,
            "height": null,
            "justify_content": null,
            "justify_items": null,
            "left": null,
            "margin": null,
            "max_height": null,
            "max_width": null,
            "min_height": null,
            "min_width": null,
            "object_fit": null,
            "object_position": null,
            "order": null,
            "overflow": null,
            "overflow_x": null,
            "overflow_y": null,
            "padding": null,
            "right": null,
            "top": null,
            "visibility": null,
            "width": null
          }
        },
        "65df107fb2384b108c0e27c78ef54504": {
          "model_module": "@jupyter-widgets/base",
          "model_name": "LayoutModel",
          "model_module_version": "1.2.0",
          "state": {
            "_model_module": "@jupyter-widgets/base",
            "_model_module_version": "1.2.0",
            "_model_name": "LayoutModel",
            "_view_count": null,
            "_view_module": "@jupyter-widgets/base",
            "_view_module_version": "1.2.0",
            "_view_name": "LayoutView",
            "align_content": null,
            "align_items": null,
            "align_self": null,
            "border": null,
            "bottom": null,
            "display": null,
            "flex": null,
            "flex_flow": null,
            "grid_area": null,
            "grid_auto_columns": null,
            "grid_auto_flow": null,
            "grid_auto_rows": null,
            "grid_column": null,
            "grid_gap": null,
            "grid_row": null,
            "grid_template_areas": null,
            "grid_template_columns": null,
            "grid_template_rows": null,
            "height": null,
            "justify_content": null,
            "justify_items": null,
            "left": null,
            "margin": null,
            "max_height": null,
            "max_width": null,
            "min_height": null,
            "min_width": null,
            "object_fit": null,
            "object_position": null,
            "order": null,
            "overflow": null,
            "overflow_x": null,
            "overflow_y": null,
            "padding": null,
            "right": null,
            "top": null,
            "visibility": null,
            "width": null
          }
        },
        "19f0ba56b51e4cff8607ae500a0a4617": {
          "model_module": "@jupyter-widgets/controls",
          "model_name": "DescriptionStyleModel",
          "model_module_version": "1.5.0",
          "state": {
            "_model_module": "@jupyter-widgets/controls",
            "_model_module_version": "1.5.0",
            "_model_name": "DescriptionStyleModel",
            "_view_count": null,
            "_view_module": "@jupyter-widgets/base",
            "_view_module_version": "1.2.0",
            "_view_name": "StyleView",
            "description_width": ""
          }
        },
        "042deb7e0c1f4ec3a1c58d63b0e4031d": {
          "model_module": "@jupyter-widgets/base",
          "model_name": "LayoutModel",
          "model_module_version": "1.2.0",
          "state": {
            "_model_module": "@jupyter-widgets/base",
            "_model_module_version": "1.2.0",
            "_model_name": "LayoutModel",
            "_view_count": null,
            "_view_module": "@jupyter-widgets/base",
            "_view_module_version": "1.2.0",
            "_view_name": "LayoutView",
            "align_content": null,
            "align_items": null,
            "align_self": null,
            "border": null,
            "bottom": null,
            "display": null,
            "flex": null,
            "flex_flow": null,
            "grid_area": null,
            "grid_auto_columns": null,
            "grid_auto_flow": null,
            "grid_auto_rows": null,
            "grid_column": null,
            "grid_gap": null,
            "grid_row": null,
            "grid_template_areas": null,
            "grid_template_columns": null,
            "grid_template_rows": null,
            "height": null,
            "justify_content": null,
            "justify_items": null,
            "left": null,
            "margin": null,
            "max_height": null,
            "max_width": null,
            "min_height": null,
            "min_width": null,
            "object_fit": null,
            "object_position": null,
            "order": null,
            "overflow": null,
            "overflow_x": null,
            "overflow_y": null,
            "padding": null,
            "right": null,
            "top": null,
            "visibility": null,
            "width": null
          }
        },
        "b19251a68bed49fea8bc65f120a0fb1a": {
          "model_module": "@jupyter-widgets/controls",
          "model_name": "ProgressStyleModel",
          "model_module_version": "1.5.0",
          "state": {
            "_model_module": "@jupyter-widgets/controls",
            "_model_module_version": "1.5.0",
            "_model_name": "ProgressStyleModel",
            "_view_count": null,
            "_view_module": "@jupyter-widgets/base",
            "_view_module_version": "1.2.0",
            "_view_name": "StyleView",
            "bar_color": null,
            "description_width": ""
          }
        },
        "cab5f709354c4af39322fdbb1cb5744e": {
          "model_module": "@jupyter-widgets/base",
          "model_name": "LayoutModel",
          "model_module_version": "1.2.0",
          "state": {
            "_model_module": "@jupyter-widgets/base",
            "_model_module_version": "1.2.0",
            "_model_name": "LayoutModel",
            "_view_count": null,
            "_view_module": "@jupyter-widgets/base",
            "_view_module_version": "1.2.0",
            "_view_name": "LayoutView",
            "align_content": null,
            "align_items": null,
            "align_self": null,
            "border": null,
            "bottom": null,
            "display": null,
            "flex": null,
            "flex_flow": null,
            "grid_area": null,
            "grid_auto_columns": null,
            "grid_auto_flow": null,
            "grid_auto_rows": null,
            "grid_column": null,
            "grid_gap": null,
            "grid_row": null,
            "grid_template_areas": null,
            "grid_template_columns": null,
            "grid_template_rows": null,
            "height": null,
            "justify_content": null,
            "justify_items": null,
            "left": null,
            "margin": null,
            "max_height": null,
            "max_width": null,
            "min_height": null,
            "min_width": null,
            "object_fit": null,
            "object_position": null,
            "order": null,
            "overflow": null,
            "overflow_x": null,
            "overflow_y": null,
            "padding": null,
            "right": null,
            "top": null,
            "visibility": null,
            "width": null
          }
        },
        "31a502ed6f5149299a98c021ebbacc6e": {
          "model_module": "@jupyter-widgets/controls",
          "model_name": "DescriptionStyleModel",
          "model_module_version": "1.5.0",
          "state": {
            "_model_module": "@jupyter-widgets/controls",
            "_model_module_version": "1.5.0",
            "_model_name": "DescriptionStyleModel",
            "_view_count": null,
            "_view_module": "@jupyter-widgets/base",
            "_view_module_version": "1.2.0",
            "_view_name": "StyleView",
            "description_width": ""
          }
        }
      }
    }
  },
  "cells": [
    {
      "cell_type": "markdown",
      "metadata": {
        "id": "view-in-github",
        "colab_type": "text"
      },
      "source": [
        "<a href=\"https://colab.research.google.com/github/Lilhxr/leaf_detect/blob/main/CKA_Bi_Data.ipynb\" target=\"_parent\"><img src=\"https://colab.research.google.com/assets/colab-badge.svg\" alt=\"Open In Colab\"/></a>"
      ]
    },
    {
      "cell_type": "code",
      "source": [
        "from google.colab import drive\n",
        "drive.mount('/content/drive')"
      ],
      "metadata": {
        "id": "2Wve32lh8uSR"
      },
      "execution_count": null,
      "outputs": []
    },
    {
      "cell_type": "code",
      "source": [
        "%cd '/content/drive/MyDrive/cassava-deit-swin/'"
      ],
      "metadata": {
        "id": "yGH3Z7KM8w-V"
      },
      "execution_count": null,
      "outputs": []
    },
    {
      "cell_type": "code",
      "source": [
        "!pip install --no-deps albumentations==1.0.0 # image argumentation\n",
        "!pip install timm # pytorch image models"
      ],
      "metadata": {
        "id": "8sMBV8Qe8xgD"
      },
      "execution_count": null,
      "outputs": []
    },
    {
      "cell_type": "code",
      "source": [
        "from albumentations.pytorch import ToTensorV2\n",
        "from datetime import datetime\n",
        "from pathlib import Path\n",
        "from timm.data import IMAGENET_DEFAULT_MEAN, IMAGENET_DEFAULT_STD\n",
        "from torch.optim import Adam, AdamW \n",
        "from torch.optim.lr_scheduler import ExponentialLR \n",
        "from torch.utils.data import DataLoader\n",
        "from torch.utils.data.dataset import Dataset\n",
        "from torch.utils.tensorboard.writer import SummaryWriter\n",
        "from torchvision.models import resnet34, resnet50\n",
        "from torchvision.datasets import ImageFolder\n",
        "from tqdm.notebook import tqdm\n",
        "from functools import partial\n",
        "from typing import List, Dict\n",
        "import warnings\n",
        "from warnings import warn\n",
        "warnings.filterwarnings('ignore')\n",
        "\n",
        "import albumentations as A\n",
        "import gc\n",
        "import numpy as np\n",
        "import matplotlib.pyplot as plt\n",
        "import pandas as pd\n",
        "import seaborn as sns\n",
        "import timm\n",
        "import torch\n",
        "import torch.nn as nn\n",
        "import torch.utils.data as data\n",
        "import torchvision.transforms as transforms\n",
        "import random\n",
        "import json\n",
        "\n",
        "%load_ext tensorboard"
      ],
      "metadata": {
        "id": "4Zcq1yD98ldD"
      },
      "execution_count": 4,
      "outputs": []
    },
    {
      "cell_type": "code",
      "source": [
        "IMAGE_SIZE = 224\n",
        "BATCH_SIZE = 16\n",
        "NUM_WORKERS = 1\n",
        "CASSAVA_NUM_CLASS = 5\n",
        "OSF_NUM_CLASS = 3\n",
        "DEVICE = torch.device(\"cuda\" if torch.cuda.is_available() else \"cpu\")\n",
        "print(f\"Device: {DEVICE}\")"
      ],
      "metadata": {
        "id": "1n5L3cdN8b6O"
      },
      "execution_count": null,
      "outputs": []
    },
    {
      "cell_type": "code",
      "source": [
        "class Transforms:\n",
        "    def __init__(self, transforms: A.Compose):\n",
        "        self.transforms = transforms\n",
        "\n",
        "    def __call__(self, img, *args, **kwargs):\n",
        "        return self.transforms(image=np.array(img))"
      ],
      "metadata": {
        "id": "XyUuRcRy93vp"
      },
      "execution_count": 6,
      "outputs": []
    },
    {
      "cell_type": "code",
      "source": [
        "class CustomizedDataset(Dataset):\n",
        "     '''convert ImageFolder to torchvision Dataset'''\n",
        "\n",
        "     def __init__(self, dataset):\n",
        "         self.dataset = dataset\n",
        "         self.classes = self.dataset.classes\n",
        "         self.targets = self.dataset.targets\n",
        "\n",
        "     def __getitem__(self, index):\n",
        "         img, lb = self.dataset[index]\n",
        "         return (img['image'], lb)\n",
        "     \n",
        "     def __len__(self):\n",
        "         return len(self.dataset)"
      ],
      "metadata": {
        "id": "l2o-GEvN9iUl"
      },
      "execution_count": 7,
      "outputs": []
    },
    {
      "cell_type": "code",
      "source": [
        "from mpl_toolkits import axes_grid1\n",
        "import matplotlib.pyplot as plt\n",
        "\n",
        "def add_colorbar(im, aspect=10, pad_fraction=0.5, **kwargs):\n",
        "    \"\"\"Add a vertical color bar to an image plot.\"\"\"\n",
        "    divider = axes_grid1.make_axes_locatable(im.axes)\n",
        "    width = axes_grid1.axes_size.AxesY(im.axes, aspect=1./aspect)\n",
        "    pad = axes_grid1.axes_size.Fraction(pad_fraction, width)\n",
        "    current_ax = plt.gca()\n",
        "    cax = divider.append_axes(\"right\", size=width, pad=pad)\n",
        "    plt.sca(current_ax)\n",
        "    return im.axes.figure.colorbar(im, cax=cax, **kwargs)"
      ],
      "metadata": {
        "id": "f_tykS3z3y0k"
      },
      "execution_count": 8,
      "outputs": []
    },
    {
      "cell_type": "code",
      "source": [
        "class CKA:\n",
        "    def __init__(self, model1: nn.Module,\n",
        "                 model2: nn.Module,\n",
        "                 model1_name: str = None,\n",
        "                 model2_name: str = None,\n",
        "                 model1_layers: List[str] = None,\n",
        "                 model2_layers: List[str] = None,\n",
        "                 device: str ='cpu'):\n",
        "        \"\"\"\n",
        "        :param model1: (nn.Module) Neural Network 1\n",
        "        :param model2: (nn.Module) Neural Network 2\n",
        "        :param model1_name: (str) Name of model 1\n",
        "        :param model2_name: (str) Name of model 2\n",
        "        :param model1_layers: (List) List of layers to extract features from\n",
        "        :param model2_layers: (List) List of layers to extract features from\n",
        "        :param device: Device to run the model\n",
        "        \"\"\"\n",
        "\n",
        "        self.model1 = model1\n",
        "        self.model2 = model2\n",
        "        self.device = device\n",
        "        self.model1_info = {}\n",
        "        self.model2_info = {}\n",
        "\n",
        "        if model1_name is None:\n",
        "            self.model1_info['Name'] = model1.__repr__().split('(')[0]\n",
        "        else:\n",
        "            self.model1_info['Name'] = model1_name\n",
        "\n",
        "        if model2_name is None:\n",
        "            self.model2_info['Name'] = model2.__repr__().split('(')[0]\n",
        "        else:\n",
        "            self.model2_info['Name'] = model2_name\n",
        "\n",
        "        if self.model1_info['Name'] == self.model2_info['Name']:\n",
        "            warn(f\"Both model have identical names - {self.model2_info['Name']}. \" \\\n",
        "                 \"It may cause confusion when interpreting the results. \" \\\n",
        "                 \"Consider giving unique names to the models :)\")\n",
        "\n",
        "        self.model1_info['Layers'] = []\n",
        "        self.model2_info['Layers'] = []\n",
        "\n",
        "        self.model1_features = {}\n",
        "        self.model2_features = {}\n",
        "\n",
        "        if len(list(model1.modules())) > 150 and model1_layers is None:\n",
        "            warn(\"Model 1 seems to have a lot of layers. \" \\\n",
        "                 \"Consider giving a list of layers whose features you are concerned with \" \\\n",
        "                 \"through the 'model1_layers' parameter. Your CPU/GPU will thank you :)\")\n",
        "\n",
        "        self.model1_layers = model1_layers\n",
        "\n",
        "        if len(list(model2.modules())) > 150 and model2_layers is None:\n",
        "            warn(\"Model 2 seems to have a lot of layers. \" \\\n",
        "                 \"Consider giving a list of layers whose features you are concerned with \" \\\n",
        "                 \"through the 'model2_layers' parameter. Your CPU/GPU will thank you :)\")\n",
        "\n",
        "        self.model2_layers = model2_layers\n",
        "\n",
        "        self._insert_hooks()\n",
        "        self.model1 = self.model1.to(self.device)\n",
        "        self.model2 = self.model2.to(self.device)\n",
        "        self.model1.eval()\n",
        "        self.model2.eval()\n",
        "\n",
        "    def _log_layer(self,\n",
        "                   model: str,\n",
        "                   name: str,\n",
        "                   layer: nn.Module,\n",
        "                   inp: torch.Tensor,\n",
        "                   out: torch.Tensor):\n",
        "\n",
        "        if model == \"model1\":\n",
        "            self.model1_features[name] = out\n",
        "\n",
        "        elif model == \"model2\":\n",
        "            self.model2_features[name] = out\n",
        "\n",
        "        else:\n",
        "            raise RuntimeError(\"Unknown model name for _log_layer.\")\n",
        "\n",
        "    def _insert_hooks(self):\n",
        "        # Model 1\n",
        "        for name, layer in self.model1.named_modules():\n",
        "            if self.model1_layers is not None:\n",
        "                if name in self.model1_layers:\n",
        "                    self.model1_info['Layers'] += [name]\n",
        "                    layer.register_forward_hook(partial(self._log_layer, \"model1\", name))\n",
        "            else:\n",
        "                self.model1_info['Layers'] += [name]\n",
        "                layer.register_forward_hook(partial(self._log_layer, \"model1\", name))\n",
        "\n",
        "        # Model 2\n",
        "        for name, layer in self.model2.named_modules():\n",
        "            if self.model2_layers is not None:\n",
        "                if name in self.model2_layers:\n",
        "                    self.model2_info['Layers'] += [name]\n",
        "                    layer.register_forward_hook(partial(self._log_layer, \"model2\", name))\n",
        "            else:\n",
        "                self.model2_info['Layers'] += [name]\n",
        "                layer.register_forward_hook(partial(self._log_layer, \"model2\", name))\n",
        "\n",
        "    def _HSIC(self, K, L):\n",
        "        \"\"\"\n",
        "        Computes the unbiased estimate of HSIC metric.\n",
        "        Reference: https://arxiv.org/pdf/2010.15327.pdf Eq (3)\n",
        "        \"\"\"\n",
        "        if K.shape != L.shape:\n",
        "           return float(\"nan\")\n",
        "        N = K.shape[0]\n",
        "        ones = torch.ones(N, 1).to(self.device)\n",
        "        result = torch.trace(K @ L)\n",
        "        result += ((ones.t() @ K @ ones @ ones.t() @ L @ ones) / ((N - 1) * (N - 2))).item()\n",
        "        result -= ((ones.t() @ K @ L @ ones) * 2 / (N - 2)).item()\n",
        "        return (1 / (N * (N - 3)) * result).item()\n",
        "\n",
        "    def compare(self,\n",
        "                dataloader1: DataLoader,\n",
        "                dataloader2: DataLoader = None) -> None:\n",
        "        \"\"\"\n",
        "        Computes the feature similarity between the models on the\n",
        "        given datasets.\n",
        "        :param dataloader1: (DataLoader)\n",
        "        :param dataloader2: (DataLoader) If given, model 2 will run on this\n",
        "                            dataset. (default = None)\n",
        "        \"\"\"\n",
        "\n",
        "        if dataloader2 is None:\n",
        "            warn(\"Dataloader for Model 2 is not given. Using the same dataloader for both models.\")\n",
        "            dataloader2 = dataloader1\n",
        "\n",
        "        self.model1_info['Dataset'] = dataloader1.dataset.__repr__().split('\\n')[0]\n",
        "        self.model2_info['Dataset'] = dataloader2.dataset.__repr__().split('\\n')[0]\n",
        "\n",
        "        N = len(self.model1_layers) if self.model1_layers is not None else len(list(self.model1.modules()))\n",
        "        M = len(self.model2_layers) if self.model2_layers is not None else len(list(self.model2.modules()))\n",
        "\n",
        "        self.hsic_matrix = torch.zeros(N, M, 3)\n",
        "\n",
        "        num_batches = min(len(dataloader1), len(dataloader2))\n",
        "\n",
        "        for (x1, *_), (x2, *_) in tqdm(zip(dataloader1, dataloader2), desc=\"| Comparing features |\", total=num_batches):\n",
        "\n",
        "            self.model1_features = {}\n",
        "            self.model2_features = {}\n",
        "            _ = self.model1(x1.to(self.device))\n",
        "            _ = self.model2(x2.to(self.device))\n",
        "\n",
        "            for i, (name1, feat1) in enumerate(self.model1_features.items()):\n",
        "                X = feat1.flatten(1)\n",
        "                K = X @ X.t()\n",
        "                K.fill_diagonal_(0.0)\n",
        "                self.hsic_matrix[i, :, 0] += self._HSIC(K, K) / num_batches\n",
        "\n",
        "                for j, (name2, feat2) in enumerate(self.model2_features.items()):\n",
        "                    Y = feat2.flatten(1)\n",
        "                    L = Y @ Y.t()\n",
        "                    L.fill_diagonal_(0.0)\n",
        "                    #assert K.shape == L.shape, f\"Feature shape mistach! {K.shape}, {L.shape}\"\n",
        "\n",
        "                    self.hsic_matrix[i, j, 1] += self._HSIC(K, L) / num_batches\n",
        "                    self.hsic_matrix[i, j, 2] += self._HSIC(L, L) / num_batches\n",
        "\n",
        "        self.hsic_matrix = self.hsic_matrix[:, :, 1] / (self.hsic_matrix[:, :, 0].sqrt() *\n",
        "                                                        self.hsic_matrix[:, :, 2].sqrt())\n",
        "        self.hsic_matrix = torch.nan_to_num(self.hsic_matrix)\n",
        "        #assert not torch.isnan(self.hsic_matrix).any(), \"HSIC computation resulted in NANs\"\n",
        "\n",
        "    def export(self) -> Dict:\n",
        "        \"\"\"\n",
        "        Exports the CKA data along with the respective model layer names.\n",
        "        :return:\n",
        "        \"\"\"\n",
        "        return {\n",
        "            \"model1_name\": self.model1_info['Name'],\n",
        "            \"model2_name\": self.model2_info['Name'],\n",
        "            \"CKA\": self.hsic_matrix,\n",
        "            \"model1_layers\": self.model1_info['Layers'],\n",
        "            \"model2_layers\": self.model2_info['Layers'],\n",
        "            \"dataset1_name\": self.model1_info['Dataset'],\n",
        "            \"dataset2_name\": self.model2_info['Dataset']\n",
        "        }\n"
      ],
      "metadata": {
        "id": "sfSesZnB3l5E"
      },
      "execution_count": 9,
      "outputs": []
    },
    {
      "cell_type": "code",
      "source": [
        "def plot_results(save_path, title, model1_info, model2_info, hsic_matrix):\n",
        "    \n",
        "    fig, ax = plt.subplots()\n",
        "    im = ax.imshow(hsic_matrix, origin='lower', cmap='magma')\n",
        "    ax.set_xlabel(f\"Layers {model2_info}\", fontsize=15)\n",
        "    ax.set_ylabel(f\"Layers {model1_info}\", fontsize=15)\n",
        "\n",
        "    if title is not None:\n",
        "        ax.set_title(f\"{title}\", fontsize=18)\n",
        "    else:\n",
        "        ax.set_title(f\"{model1_info} vs {model2_info}\", fontsize=18)\n",
        "    add_colorbar(im)\n",
        "    plt.tight_layout()\n",
        "\n",
        "    if save_path is not None:\n",
        "        plt.savefig(save_path, dpi=300)\n",
        "\n",
        "    plt.show()"
      ],
      "metadata": {
        "id": "s8Q8Er1dwMRr"
      },
      "execution_count": 10,
      "outputs": []
    },
    {
      "cell_type": "code",
      "source": [
        "def feature_dimension_extractor(model):\n",
        "\n",
        "    feature_dimension = {}\n",
        "    input = torch.randn(16, 3, 224, 224)\n",
        "\n",
        "    def hook_fn(name, module, input, output):\n",
        "        feature_dimension[name] = output.size()\n",
        "\n",
        "    for name, layer in model.named_modules():\n",
        "        # hook_fn(module, input, output)\n",
        "        layer.register_forward_hook(partial(hook_fn, name))\n",
        "    _ = model(input)\n",
        "\n",
        "    return feature_dimension "
      ],
      "metadata": {
        "id": "dbGadxs0bS3_"
      },
      "execution_count": 11,
      "outputs": []
    },
    {
      "cell_type": "code",
      "source": [
        "timm.list_models(pretrained=True)"
      ],
      "metadata": {
        "id": "wcqsEx67zBSn"
      },
      "execution_count": null,
      "outputs": []
    },
    {
      "cell_type": "code",
      "source": [
        "model1 = timm.create_model('swin_tiny_patch4_window7_224', pretrained=True, num_classes=5)\n",
        "# model name: 'vit_tiny_patch16_224', 'swin_tiny_patch4_window7_224' 'resnet50'"
      ],
      "metadata": {
        "id": "R83RHJ1bCt-Y"
      },
      "execution_count": 13,
      "outputs": []
    },
    {
      "cell_type": "code",
      "source": [
        "feature_dimension_extractor(model1)"
      ],
      "metadata": {
        "id": "SEcfbzpYTxJ1"
      },
      "execution_count": null,
      "outputs": []
    },
    {
      "cell_type": "code",
      "source": [
        "feature_dimension = feature_dimension_extractor(model1)\n",
        "valid_layer_name = [k for k, v in feature_dimension.items() if 'mlp' in k]"
      ],
      "metadata": {
        "id": "aHlrlVmoiiCf"
      },
      "execution_count": 15,
      "outputs": []
    },
    {
      "cell_type": "code",
      "source": [
        "valid_layer_name"
      ],
      "metadata": {
        "id": "nNIn3UY39YQv"
      },
      "execution_count": null,
      "outputs": []
    },
    {
      "cell_type": "code",
      "source": [
        "def seed_worker(worker_id):\n",
        "    worker_seed = torch.initial_seed() % 2**32\n",
        "    np.random.seed(worker_seed)\n",
        "    random.seed(worker_seed)\n",
        "\n",
        "g = torch.Generator()\n",
        "g.manual_seed(0)\n",
        "np.random.seed(0)\n",
        "random.seed(0)\n",
        "\n",
        "valid_augs_compose = A.Compose([\n",
        "    A.Resize(height=IMAGE_SIZE, width=IMAGE_SIZE, p=1.0),\n",
        "    A.Normalize(\n",
        "        mean=IMAGENET_DEFAULT_MEAN,\n",
        "        std=IMAGENET_DEFAULT_STD),\n",
        "    ToTensorV2(),\n",
        "])\n",
        "\n",
        "valid_augs = Transforms(valid_augs_compose)\n",
        "\n",
        "test_data1 = CustomizedDataset(\n",
        "    ImageFolder(\"data/cassava_sample_data\", \n",
        "                transform=valid_augs))\n",
        "test_data2 = CustomizedDataset(\n",
        "    ImageFolder(\"data/osf_sample_data\", \n",
        "                transform=valid_augs))\n",
        "test_dataloader1 = DataLoader(\n",
        "    test_data1, batch_size=BATCH_SIZE, \n",
        "    shuffle=False, num_workers=NUM_WORKERS, \n",
        "    worker_init_fn=seed_worker, generator=g)\n",
        "test_dataloader2 = DataLoader(\n",
        "    test_data2, batch_size=BATCH_SIZE, \n",
        "    shuffle=False, num_workers=NUM_WORKERS,\n",
        "    worker_init_fn=seed_worker, generator=g)"
      ],
      "metadata": {
        "id": "lgwAFdDf-b1a"
      },
      "execution_count": 17,
      "outputs": []
    },
    {
      "cell_type": "code",
      "source": [
        "cka = CKA(model1, model1, \n",
        "          model1_name=\"resnet50\", \n",
        "          model2_name=\"resnet50\", \n",
        "          model1_layers=valid_layer_name,\n",
        "          model2_layers=valid_layer_name,\n",
        "          device='cuda')"
      ],
      "metadata": {
        "id": "ld4muU3Z-b59"
      },
      "execution_count": 19,
      "outputs": []
    },
    {
      "cell_type": "code",
      "source": [
        "cka.compare(test_dataloader1, test_dataloader2)"
      ],
      "metadata": {
        "colab": {
          "base_uri": "https://localhost:8080/",
          "height": 49,
          "referenced_widgets": [
            "0d81d5ea5db040d9bbc3ad461ff4d5ec",
            "faadf86c14084e34a88da42b78e9c142",
            "0ebd9b8ebdcf4958b46af8019916ab93",
            "1f9b3ffb15f4490f8f4ba7445cad852f",
            "328915a061db4d22a945063f3a290f8c",
            "65df107fb2384b108c0e27c78ef54504",
            "19f0ba56b51e4cff8607ae500a0a4617",
            "042deb7e0c1f4ec3a1c58d63b0e4031d",
            "b19251a68bed49fea8bc65f120a0fb1a",
            "cab5f709354c4af39322fdbb1cb5744e",
            "31a502ed6f5149299a98c021ebbacc6e"
          ]
        },
        "id": "LRkzpC1aFMy0",
        "outputId": "c893a96a-d3bd-4582-d83c-cd46c94ce71a"
      },
      "execution_count": 20,
      "outputs": [
        {
          "output_type": "display_data",
          "data": {
            "text/plain": [
              "| Comparing features |:   0%|          | 0/2 [00:00<?, ?it/s]"
            ],
            "application/vnd.jupyter.widget-view+json": {
              "version_major": 2,
              "version_minor": 0,
              "model_id": "0d81d5ea5db040d9bbc3ad461ff4d5ec"
            }
          },
          "metadata": {}
        }
      ]
    },
    {
      "cell_type": "code",
      "source": [
        "info = cka.export()\n",
        "info[\"CKA\"] = info[\"CKA\"].numpy().tolist()\n",
        "with open('./resnet50.json', 'w') as fp:\n",
        "    json.dump(info, fp, indent=4)"
      ],
      "metadata": {
        "id": "r0lmY6MTDhrl"
      },
      "execution_count": 21,
      "outputs": []
    },
    {
      "cell_type": "code",
      "source": [
        "with open('./resnet50.json', 'r', encoding='utf-8') as fp:\n",
        "    info = json.load(fp)\n",
        "save_path = \"./resnet50.png\"\n",
        "model1_info = info[\"model1_name\"]\n",
        "model2_info = info[\"model2_name\"]\n",
        "title = \"CKA Resnet50 Cassava vs OSF\"\n",
        "hsic_matrix = info[\"CKA\"]\n",
        "plot_results(save_path, title, model1_info, model2_info, hsic_matrix)"
      ],
      "metadata": {
        "colab": {
          "base_uri": "https://localhost:8080/",
          "height": 297
        },
        "id": "R5npkkSEE9_c",
        "outputId": "c6061762-bd40-4be1-f0d9-cc475dd294e1"
      },
      "execution_count": 22,
      "outputs": [
        {
          "output_type": "display_data",
          "data": {
            "text/plain": [
              "<Figure size 432x288 with 2 Axes>"
            ],
            "image/png": "[encoded data removed]"
          },
          "metadata": {
            "needs_background": "light"
          }
        }
      ]
    }
  ]
}