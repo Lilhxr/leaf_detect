{
  "cells": [
    {
      "cell_type": "markdown",
      "metadata": {
        "id": "view-in-github",
        "colab_type": "text"
      },
      "source": [
        "<a href=\"https://colab.research.google.com/github/Lilhxr/leaf_detect/blob/main/SWIN_CASSAVA_PRETRAINED.ipynb\" target=\"_parent\"><img src=\"https://colab.research.google.com/assets/colab-badge.svg\" alt=\"Open In Colab\"/></a>"
      ]
    },
    {
      "cell_type": "code",
      "source": [
        "from google.colab import drive\n",
        "drive.mount('/content/drive')"
      ],
      "metadata": {
        "id": "cmCpFtUVv0xq"
      },
      "id": "cmCpFtUVv0xq",
      "execution_count": null,
      "outputs": []
    },
    {
      "cell_type": "code",
      "source": [
        "%cd '/content/drive/MyDrive/cassava-deit-swin/'"
      ],
      "metadata": {
        "id": "lLTQ2Oh3wC2Q"
      },
      "id": "lLTQ2Oh3wC2Q",
      "execution_count": null,
      "outputs": []
    },
    {
      "cell_type": "code",
      "source": [
        "!pip install --no-deps albumentations==1.0.0 # image argumentation\n",
        "!pip install timm # pytorch image models"
      ],
      "metadata": {
        "id": "IKG9GFJeB3mx"
      },
      "id": "IKG9GFJeB3mx",
      "execution_count": null,
      "outputs": []
    },
    {
      "cell_type": "code",
      "source": [
        "from __future__ import print_function, division\n",
        "from albumentations.pytorch import ToTensorV2\n",
        "from datetime import datetime\n",
        "from pathlib import Path\n",
        "from sklearn.metrics import confusion_matrix\n",
        "from timm.data import IMAGENET_DEFAULT_MEAN, IMAGENET_DEFAULT_STD\n",
        "from torch.optim import Adam, AdamW \n",
        "from torch.optim.lr_scheduler import ExponentialLR \n",
        "from torch.utils.data import DataLoader\n",
        "from torch.utils.data.dataset import Dataset\n",
        "from torch.utils.tensorboard.writer import SummaryWriter\n",
        "from torchvision.datasets import ImageFolder\n",
        "from torchvision.utils import make_grid\n",
        "from tqdm.notebook import tqdm\n",
        "import warnings\n",
        "warnings.filterwarnings('ignore')\n",
        "\n",
        "import albumentations as A\n",
        "import gc\n",
        "import numpy as np\n",
        "import matplotlib.pyplot as plt\n",
        "import pandas as pd\n",
        "import seaborn as sn\n",
        "import timm\n",
        "import torch\n",
        "import torch.nn as nn\n",
        "import torch.utils.data as data\n",
        "import torchvision.transforms as transforms\n",
        "import random\n",
        "from functools import partial\n",
        "\n",
        "import torch.optim as optim\n",
        "from torch.optim import lr_scheduler\n",
        "import torch.backends.cudnn as cudnn\n",
        "import torchvision\n",
        "from torchvision import datasets, transforms\n",
        "import matplotlib.pyplot as plt\n",
        "import time\n",
        "import os\n",
        "import copy\n",
        "import sys\n",
        "\n",
        "%load_ext tensorboard"
      ],
      "metadata": {
        "id": "K3h8TgXABbgt",
        "colab": {
          "base_uri": "https://localhost:8080/"
        },
        "outputId": "8e6ca722-1122-4c48-af77-e6596e27e20b"
      },
      "id": "K3h8TgXABbgt",
      "execution_count": 15,
      "outputs": [
        {
          "output_type": "stream",
          "name": "stdout",
          "text": [
            "The tensorboard extension is already loaded. To reload it, use:\n",
            "  %reload_ext tensorboard\n"
          ]
        }
      ]
    },
    {
      "cell_type": "code",
      "execution_count": 5,
      "id": "7651f427",
      "metadata": {
        "id": "7651f427"
      },
      "outputs": [],
      "source": [
        "from pathlib import Path\n",
        "sys.path.insert(0,os.path.abspath('./'))\n",
        "sys.path.insert(0,os.path.abspath('./utilities'))"
      ]
    },
    {
      "cell_type": "code",
      "execution_count": 6,
      "id": "fb994ca7",
      "metadata": {
        "id": "fb994ca7"
      },
      "outputs": [],
      "source": [
        "from utilities.utils import *"
      ]
    },
    {
      "cell_type": "code",
      "execution_count": 7,
      "id": "0a2cb6ec",
      "metadata": {
        "id": "0a2cb6ec"
      },
      "outputs": [],
      "source": [
        "import timm"
      ]
    },
    {
      "cell_type": "code",
      "source": [
        "timm.list_models(pretrained=True)"
      ],
      "metadata": {
        "id": "iV1DkPsf4WXg"
      },
      "id": "iV1DkPsf4WXg",
      "execution_count": null,
      "outputs": []
    },
    {
      "cell_type": "markdown",
      "id": "5edabc0f",
      "metadata": {
        "id": "5edabc0f"
      },
      "source": [
        "## Vit_16 on Cassava"
      ]
    },
    {
      "cell_type": "code",
      "execution_count": 9,
      "id": "a4f8d148",
      "metadata": {
        "id": "a4f8d148"
      },
      "outputs": [],
      "source": [
        "model = timm.create_model('swin_tiny_patch4_window7_224', pretrained=True)"
      ]
    },
    {
      "cell_type": "code",
      "execution_count": 10,
      "id": "c3547e43",
      "metadata": {
        "id": "c3547e43"
      },
      "outputs": [],
      "source": [
        "LABEL = 'SWIN_TINY_CASSAVA'\n",
        "TYPE = 'PRETRAINED'"
      ]
    },
    {
      "cell_type": "markdown",
      "id": "a4cabadd",
      "metadata": {
        "id": "a4cabadd"
      },
      "source": [
        "## Getting the hooks for each layers"
      ]
    },
    {
      "cell_type": "code",
      "execution_count": 11,
      "id": "74b22919",
      "metadata": {
        "id": "74b22919"
      },
      "outputs": [],
      "source": [
        "hookLayersActivationDict = {}\n",
        "activationDict = {}"
      ]
    },
    {
      "cell_type": "code",
      "execution_count": 12,
      "id": "954443ac",
      "metadata": {
        "id": "954443ac"
      },
      "outputs": [],
      "source": [
        "modelNamedModules = dict(model.named_modules())"
      ]
    },
    {
      "cell_type": "code",
      "source": [
        "def feature_dimension_extractor(model):\n",
        "\n",
        "    feature_dimension = {}\n",
        "    input = torch.randn(16, 3, 224, 224)\n",
        "\n",
        "    def hook_fn(name, module, input, output):\n",
        "        feature_dimension[name] = output.size()\n",
        "\n",
        "    for name, layer in model.named_modules():\n",
        "        # hook_fn(module, input, output)\n",
        "        layer.register_forward_hook(partial(hook_fn, name))\n",
        "    _ = model(input)\n",
        "\n",
        "    return feature_dimension "
      ],
      "metadata": {
        "id": "No6cscukgcO7"
      },
      "id": "No6cscukgcO7",
      "execution_count": 16,
      "outputs": []
    },
    {
      "cell_type": "code",
      "source": [
        "feature_dimension = feature_dimension_extractor(model)\n",
        "hookLayers = [k for k, v in feature_dimension.items() if v[0] == 16]"
      ],
      "metadata": {
        "id": "9HOwpEfmgjEJ"
      },
      "id": "9HOwpEfmgjEJ",
      "execution_count": 18,
      "outputs": []
    },
    {
      "cell_type": "code",
      "source": [
        "hookLayers"
      ],
      "metadata": {
        "id": "oBaDpXyneX_M"
      },
      "id": "oBaDpXyneX_M",
      "execution_count": null,
      "outputs": []
    },
    {
      "cell_type": "code",
      "execution_count": 20,
      "id": "aba2c14c",
      "metadata": {
        "id": "aba2c14c"
      },
      "outputs": [],
      "source": [
        "for layer in hookLayers:\n",
        "    h = model.get_submodule(layer).register_forward_hook(getActivation(layer,hookLayersActivationDict))"
      ]
    },
    {
      "cell_type": "markdown",
      "id": "6a0a83a3",
      "metadata": {
        "id": "6a0a83a3"
      },
      "source": [
        "## Cassava"
      ]
    },
    {
      "cell_type": "code",
      "execution_count": null,
      "id": "0214363e",
      "metadata": {
        "id": "0214363e"
      },
      "outputs": [],
      "source": [
        "IMAGE_SIZE = 224\n",
        "TRAIN_BATCH_SIZE = 16\n",
        "TEST_BATCH_SIZE = 16\n",
        "NUM_WORKERS = 2\n",
        "DEVICE = torch.device(\"cuda\" if torch.cuda.is_available() else \"cpu\")\n",
        "print(f\"Device: {DEVICE}\")\n",
        "\n",
        "class Transforms:\n",
        "    def __init__(self, transforms: A.Compose):\n",
        "        self.transforms = transforms\n",
        "\n",
        "    def __call__(self, img, *args, **kwargs):\n",
        "        return self.transforms(image=np.array(img))\n",
        "\n",
        "train_augs_compose = A.Compose([\n",
        "    A.RandomResizedCrop(height=IMAGE_SIZE, width=IMAGE_SIZE, p=1.0),\n",
        "    A.HorizontalFlip(p=0.5),\n",
        "    A.VerticalFlip(p=0.5),\n",
        "    A.RandomBrightnessContrast(p=0.5),\n",
        "    A.ShiftScaleRotate(p=0.5),\n",
        "    A.Normalize(    \n",
        "        mean=IMAGENET_DEFAULT_MEAN,\n",
        "        std=IMAGENET_DEFAULT_STD),\n",
        "    A.CoarseDropout(p=0.5),\n",
        "    ToTensorV2(),\n",
        "])\n",
        "\n",
        "valid_augs_compose = A.Compose([\n",
        "    A.Resize(height=IMAGE_SIZE, width=IMAGE_SIZE, p=1.0),\n",
        "    A.Normalize(\n",
        "        mean=IMAGENET_DEFAULT_MEAN,\n",
        "        std=IMAGENET_DEFAULT_STD),\n",
        "    ToTensorV2(),\n",
        "])\n",
        "\n",
        "train_augs = Transforms(train_augs_compose)\n",
        "valid_augs = Transforms(valid_augs_compose)"
      ]
    },
    {
      "cell_type": "code",
      "source": [
        "class CustomizedDataset(Dataset):\n",
        "     '''convert ImageFolder to torchvision Dataset'''\n",
        "\n",
        "     def __init__(self, dataset):\n",
        "         self.dataset = dataset\n",
        "         self.classes = self.dataset.classes\n",
        "         self.targets = self.dataset.targets\n",
        "\n",
        "     def __getitem__(self, index):\n",
        "         img, lb = self.dataset[index]\n",
        "         return (img['image'], lb)\n",
        "     \n",
        "     def __len__(self):\n",
        "         return len(self.dataset)"
      ],
      "metadata": {
        "id": "NV4WEupfGJdO"
      },
      "id": "NV4WEupfGJdO",
      "execution_count": 22,
      "outputs": []
    },
    {
      "cell_type": "code",
      "source": [
        "train_data = CustomizedDataset(ImageFolder(\"./data/cassava_leaf_data/train\", transform=train_augs))\n",
        "\n",
        "class_sample_counts = np.empty(len(train_data.classes), dtype=int)\n",
        "for idx in range(len(train_data.classes)):\n",
        "    class_sample_counts[idx] = train_data.targets.count(idx)\n",
        "\n",
        "weights = 1. / torch.tensor(class_sample_counts, dtype=torch.float)\n",
        "samples_weights = weights[train_data.targets]\n",
        "\n",
        "# data balancer\n",
        "sampler = data.WeightedRandomSampler(\n",
        "    weights=samples_weights,\n",
        "    num_samples=len(samples_weights),\n",
        "    replacement=True)\n",
        "\n",
        "train_loader = DataLoader(train_data, batch_size=TRAIN_BATCH_SIZE, sampler=sampler, num_workers=NUM_WORKERS)"
      ],
      "metadata": {
        "id": "PjyBdzYDA9dY"
      },
      "id": "PjyBdzYDA9dY",
      "execution_count": 23,
      "outputs": []
    },
    {
      "cell_type": "code",
      "source": [
        "validation_data = CustomizedDataset(ImageFolder(\"./data/cassava_leaf_data/test\", transform=valid_augs))\n",
        "val_loader = DataLoader(validation_data, batch_size=TEST_BATCH_SIZE, shuffle=True, num_workers=NUM_WORKERS)"
      ],
      "metadata": {
        "id": "XGaagQjwA-Xg"
      },
      "id": "XGaagQjwA-Xg",
      "execution_count": 24,
      "outputs": []
    },
    {
      "cell_type": "code",
      "source": [
        "test_data = CustomizedDataset(ImageFolder(\"./data/cassava_leaf_data/test\", transform=valid_augs))\n",
        "test_loader = DataLoader(test_data, batch_size=TEST_BATCH_SIZE, shuffle=True, num_workers=NUM_WORKERS)"
      ],
      "metadata": {
        "id": "qgS-XeW6BAz2"
      },
      "id": "qgS-XeW6BAz2",
      "execution_count": 25,
      "outputs": []
    },
    {
      "cell_type": "code",
      "execution_count": 26,
      "id": "3e8cda39",
      "metadata": {
        "id": "3e8cda39"
      },
      "outputs": [],
      "source": [
        "device = torch.device(\"cuda\" if torch.cuda.is_available() else \"cpu\")"
      ]
    },
    {
      "cell_type": "code",
      "execution_count": 27,
      "id": "fdad9e68",
      "metadata": {
        "id": "fdad9e68",
        "colab": {
          "base_uri": "https://localhost:8080/"
        },
        "outputId": "c5913cac-6ead-4f45-ba23-2f167271d38e"
      },
      "outputs": [
        {
          "output_type": "stream",
          "name": "stdout",
          "text": [
            "Iteration:   0%|          | 0/118 [00:10<?, ?it/s]\n"
          ]
        }
      ],
      "source": [
        "model = model.to(device)\n",
        "valid_acc,activationDict = evaluate(model,device,val_loader,hookLayers,hookLayersActivationDict)"
      ]
    },
    {
      "cell_type": "markdown",
      "id": "25f03d18",
      "metadata": {
        "id": "25f03d18"
      },
      "source": [
        "## HSIC calculation and plots"
      ]
    },
    {
      "cell_type": "code",
      "execution_count": 28,
      "id": "b27a7756",
      "metadata": {
        "id": "b27a7756"
      },
      "outputs": [],
      "source": [
        "col1, col2, hsicScoreList = getLayerWiseOutputCorrelation(hookLayers,hookLayers,activationDict,activationDict)"
      ]
    },
    {
      "cell_type": "code",
      "execution_count": 29,
      "id": "3c4155bc",
      "metadata": {
        "id": "3c4155bc"
      },
      "outputs": [],
      "source": [
        "import pandas as pd\n",
        "import seaborn as sns"
      ]
    },
    {
      "cell_type": "code",
      "execution_count": 30,
      "id": "63d20332",
      "metadata": {
        "id": "63d20332"
      },
      "outputs": [],
      "source": [
        "import matplotlib.ticker as ticker"
      ]
    },
    {
      "cell_type": "code",
      "execution_count": 31,
      "id": "2bccd613",
      "metadata": {
        "id": "2bccd613"
      },
      "outputs": [],
      "source": [
        "hsicData = {\n",
        "    'L1' : col1,\n",
        "    'L2' : col2,\n",
        "    'hsic':hsicScoreList\n",
        "}\n",
        "\n",
        "hsicDataFrame = pd.DataFrame(data=hsicData)\n",
        "hsicDataFrame = hsicDataFrame.pivot(\"L1\", \"L2\", \"hsic\")"
      ]
    },
    {
      "cell_type": "code",
      "execution_count": 33,
      "id": "183eb249",
      "metadata": {
        "id": "183eb249",
        "colab": {
          "base_uri": "https://localhost:8080/",
          "height": 541
        },
        "outputId": "3eb720e5-e12d-4c2f-c105-b0cc5d0c49a7"
      },
      "outputs": [
        {
          "output_type": "display_data",
          "data": {
            "text/plain": [
              "<Figure size 864x576 with 2 Axes>"
            ],
            "image/png": "[encoded data removed]"
          },
          "metadata": {
            "needs_background": "light"
          }
        }
      ],
      "source": [
        "plt.figure(figsize=(12,8))\n",
        "ax = sns.heatmap(hsicDataFrame.T, cmap='YlGnBu')\n",
        "plt.xlabel(\"Layers swin_tiny\",fontsize='36')\n",
        "plt.ylabel(\"Layers swin_tiny\",fontsize='36')\n",
        "ax.tick_params(axis='both', which='major', labelsize=20)\n",
        "ax.set_xticks(ax.get_xticks()[::4])\n",
        "ax.set_yticks(ax.get_yticks()[::4])\n",
        "ax.invert_yaxis()\n",
        "plt.savefig(LABEL+\"_\"+TYPE+'.pdf',fmt='pdf',bbox_inches='tight')"
      ]
    }
  ],
  "metadata": {
    "kernelspec": {
      "display_name": "Python 3 (ipykernel)",
      "language": "python",
      "name": "python3"
    },
    "language_info": {
      "codemirror_mode": {
        "name": "ipython",
        "version": 3
      },
      "file_extension": ".py",
      "mimetype": "text/x-python",
      "name": "python",
      "nbconvert_exporter": "python",
      "pygments_lexer": "ipython3",
      "version": "3.9.7"
    },
    "colab": {
      "name": "SWIN_CASSAVA_PRETRAINED.ipynb",
      "provenance": [],
      "collapsed_sections": [],
      "include_colab_link": true
    },
    "accelerator": "GPU",
    "gpuClass": "standard"
  },
  "nbformat": 4,
  "nbformat_minor": 5
}